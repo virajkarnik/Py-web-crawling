{
 "cells": [
  {
   "cell_type": "code",
   "execution_count": 2,
   "metadata": {
    "collapsed": false,
    "scrolled": true
   },
   "outputs": [
    {
     "ename": "SyntaxError",
     "evalue": "invalid syntax (<ipython-input-2-db6fff84ceb9>, line 3)",
     "output_type": "error",
     "traceback": [
      "\u001b[1;36m  File \u001b[1;32m\"<ipython-input-2-db6fff84ceb9>\"\u001b[1;36m, line \u001b[1;32m3\u001b[0m\n\u001b[1;33m    import python-twitter\u001b[0m\n\u001b[1;37m                 ^\u001b[0m\n\u001b[1;31mSyntaxError\u001b[0m\u001b[1;31m:\u001b[0m invalid syntax\n"
     ]
    }
   ],
   "source": [
    "# This is a Python program to find out negative and positive tweets about Wendys\n",
    "\n",
    "import twitter\n",
    "import json\n",
    "from urllib import unquote\n",
    "\n",
    "#---------------------------------------------\n",
    "# Function to authenticate using Twitter API\n",
    "def oauth_login():\n",
    "    CONSUMER_KEY = 'SKeR7JceYHh6V7MA9aQg2LIs9'\n",
    "    CONSUMER_SECRET ='YkMQ6GY1EuOVwxfHnc1lc8wr6OzoIveYiKgdbBwqtPyillJj41'\n",
    "    OAUTH_TOKEN = '289922127-yer28rcHdG14s6REh9z2LZ53ibBgLnsy6djB0Ff8'\n",
    "    OAUTH_TOKEN_SECRET = 'B7eGgOfnxE7nGRK25BPanc6rj9AoToR6ENb3bdsKYkFx9'\n",
    "    auth = twitter.oauth.OAuth(OAUTH_TOKEN, OAUTH_TOKEN_SECRET,\n",
    "    CONSUMER_KEY, CONSUMER_SECRET)\n",
    "    twitter_api = twitter.Twitter(auth=auth)\n",
    "    return twitter_api\n",
    " \n",
    "\n",
    "#----------------------------------------------\n",
    "# Main body of the program\n",
    "\n",
    "print 'This is a Python program to find out positive and negative tweets about Wendys'\n",
    "twitter_api = oauth_login()\n",
    "json_statuses_file = open('json_statuses_file.txt', 'w')         # File to store JSON data\n",
    "execution_output_file = open('execution_output_file.txt', 'w')   # File to store some debugging print statements\n",
    "query = \"@wendys\" # The query string\n",
    "recent = \"recent\"      # The type of result we want, this will give only recent tweets\n",
    "tweet_count = \"100\"    # Search API limits maximum number of tweets returned to 100\n",
    "\n",
    "# Use the Twitter Search API to get the results. The query is used to get 100 recent tweets with the word \"@Wendys\".\n",
    "wendys_tweets = twitter_api.search.tweets(q=query, count=tweet_count, include_entities=1, result_type=recent)\n",
    "twitter_statuses = wendys_tweets['statuses']\n",
    "\n",
    "# Iterate to generate 99 queries. In each query we try to get 100 tweets. But API might return less than 100 tweets sometimes.\n",
    "for page_counter in range(0, 99): \n",
    "    print >> execution_output_file, \"Entering for-loop. Loop count - \", page_counter\n",
    "    try: # Find the smallest Twitter ID in the set of statuses returned for each query\n",
    "        no_of_statuses = len(wendys_tweets['statuses'])\n",
    "        for status_counter in range(0, no_of_statuses):\n",
    "            tweet_ids.append(wendys_tweets['statuses'][status_counter]['id']) \n",
    "        min_tweet_id = min(tweet_ids)\n",
    "        print >> execution_output_file, \"Minimum Tweet ID - \", min_tweet_id\n",
    "    except: # Exception handling\n",
    "        print \"Exception encountered. Exiting for-loop.\"\n",
    "        break;          # Exit the iteration\n",
    "    \n",
    "    # Returns results with an ID less than (that is, older than) or equal to the specified ID.\n",
    "    wendys_tweets = twitter_api.search.tweets(q=query, count=tweet_count, include_entities=1, result_type=recent, max_id=min_tweet_id)\n",
    "    twitter_statuses = twitter_statuses + wendys_tweets['statuses']\n",
    "    no_of_statuses = len(wendys_tweets['statuses'])\n",
    "    print >> execution_output_file, \"No. of statuses now - \", len(twitter_statuses)\n",
    "\n",
    "print 'Total no.of statuses gathered - ', len(twitter_statuses)    \n",
    "print 'Printing statuses to file....' \n",
    "json_statuses_file.write(json.dumps(twitter_statuses, indent=1))\n",
    "\n",
    "json_statuses_file.close()\n",
    "execution_output_file.close()\n",
    "print 'Printing to file complete.'\n",
    "print 'The program has completed.'\n"
   ]
  },
  {
   "cell_type": "code",
   "execution_count": null,
   "metadata": {
    "collapsed": true
   },
   "outputs": [],
   "source": []
  }
 ],
 "metadata": {
  "kernelspec": {
   "display_name": "Python 2",
   "language": "python",
   "name": "python2"
  },
  "language_info": {
   "codemirror_mode": {
    "name": "ipython",
    "version": 2
   },
   "file_extension": ".py",
   "mimetype": "text/x-python",
   "name": "python",
   "nbconvert_exporter": "python",
   "pygments_lexer": "ipython2",
   "version": "2.7.10"
  }
 },
 "nbformat": 4,
 "nbformat_minor": 0
}
